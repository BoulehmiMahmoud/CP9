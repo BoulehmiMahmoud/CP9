{
 "cells": [
  {
   "cell_type": "code",
   "execution_count": 3,
   "id": "6add92fc",
   "metadata": {},
   "outputs": [
    {
     "name": "stdout",
     "output_type": "stream",
     "text": [
      "True\n"
     ]
    }
   ],
   "source": [
    "#1\n",
    "def binary_search(sequence,item):\n",
    "    begin_index=0\n",
    "    end_index=len(sequence)-1\n",
    "    while begin_index<=end_index:\n",
    "        midpoint=begin_index + (end_index-begin_index)//2\n",
    "        midpoint_value=sequence[midpoint]\n",
    "        if midpoint_value==item:\n",
    "            return True\n",
    "        elif item<midpoint_value:\n",
    "            end_index=midpoint-1\n",
    "        else:\n",
    "            begin_index=midpoint+1\n",
    "    return False\n",
    "sequence_a=[4,5,6,8,9,10,11,12,13,14,15,16]\n",
    "item_a=4\n",
    "print(binary_search(sequence_a,item_a))"
   ]
  },
  {
   "cell_type": "code",
   "execution_count": 5,
   "id": "b1c1a247",
   "metadata": {},
   "outputs": [
    {
     "name": "stdout",
     "output_type": "stream",
     "text": [
      "121\n"
     ]
    }
   ],
   "source": [
    "#2\n",
    "def power(a,b):\n",
    "    d=a**b\n",
    "    return d\n",
    "print(power(11,2))"
   ]
  },
  {
   "cell_type": "code",
   "execution_count": 6,
   "id": "8d6f3562",
   "metadata": {},
   "outputs": [
    {
     "name": "stdout",
     "output_type": "stream",
     "text": [
      "[13, 22, 29, 37, 46, 49, 52, 56, 71]\n"
     ]
    }
   ],
   "source": [
    "#3\n",
    "def bubbleSort(liste):\n",
    "    for j in range(len(liste)-1,0,-1):\n",
    "        for i in range(j):\n",
    "            if liste[i]>liste[i+1]:\n",
    "                a = liste[i]\n",
    "                liste[i] = liste[i+1]\n",
    "                liste[i+1] = a\n",
    "    return liste\n",
    "print(bubbleSort([29,13,22,37,52,49,46,71,56]))"
   ]
  },
  {
   "cell_type": "code",
   "execution_count": 7,
   "id": "ce036ab9",
   "metadata": {},
   "outputs": [
    {
     "name": "stdout",
     "output_type": "stream",
     "text": [
      "[13, 22, 29, 37, 46, 49, 52, 56, 71]\n"
     ]
    }
   ],
   "source": [
    "#4\n",
    "def merging(liste):\n",
    "    if len(liste) > 1:\n",
    "        mid = len(liste) // 2\n",
    "        left = liste[:mid]\n",
    "        right = liste[mid:]\n",
    "\n",
    "        merging(left)\n",
    "        merging(right)\n",
    "        i = 0\n",
    "        j = 0\n",
    "        c = 0\n",
    "        while i < len(left) and j < len(right):\n",
    "            if left[i] < right[j]:\n",
    "              liste[c] = left[i]\n",
    "              i += 1\n",
    "            else:\n",
    "                liste[c] = right[j]\n",
    "                j += 1\n",
    "            c += 1\n",
    "\n",
    "        while i < len(left):\n",
    "            liste[c] = left[i]\n",
    "            i += 1\n",
    "            c += 1\n",
    "\n",
    "        while j < len(right):\n",
    "            liste[c]=right[j]\n",
    "            j += 1\n",
    "            c += 1\n",
    "\n",
    "liste = [29,13,22,37,52,49,46,71,56]\n",
    "merging(liste)\n",
    "print(liste)"
   ]
  },
  {
   "cell_type": "code",
   "execution_count": 8,
   "id": "4bad1289",
   "metadata": {},
   "outputs": [
    {
     "name": "stdout",
     "output_type": "stream",
     "text": [
      "[13, 22, 29, 37, 46, 49, 52, 56, 71]\n"
     ]
    }
   ],
   "source": [
    "def partition(liste, start, end):\n",
    "    pivot = liste[start]\n",
    "    low = start + 1\n",
    "    high = end\n",
    "    while True:\n",
    "        while low <= high and liste[high] >= pivot:\n",
    "            high = high - 1\n",
    "\n",
    "        while low <= high and liste[low] <= pivot:\n",
    "            low = low + 1\n",
    "\n",
    "        if low <= high:\n",
    "            liste[low], liste[high] = liste[high], liste[low]\n",
    "        else:\n",
    "            break\n",
    "\n",
    "    liste[start], liste[high] = liste[high], liste[start]\n",
    "\n",
    "    return high\n",
    "\n",
    "\n",
    "def quick_sort(liste, start, end):\n",
    "    if start >= end:\n",
    "        return\n",
    "\n",
    "    p = partition(liste, start, end)\n",
    "    quick_sort(liste, start, p-1)\n",
    "    quick_sort(liste, p+1, end)\n",
    " \n",
    "liste=[29,13,22,37,52,49,46,71,56]\n",
    "quick_sort(liste, 0, len(liste) - 1)\n",
    "print(liste)"
   ]
  },
  {
   "cell_type": "code",
   "execution_count": null,
   "id": "fe4e7be4",
   "metadata": {},
   "outputs": [],
   "source": []
  }
 ],
 "metadata": {
  "kernelspec": {
   "display_name": "Python 3",
   "language": "python",
   "name": "python3"
  },
  "language_info": {
   "codemirror_mode": {
    "name": "ipython",
    "version": 3
   },
   "file_extension": ".py",
   "mimetype": "text/x-python",
   "name": "python",
   "nbconvert_exporter": "python",
   "pygments_lexer": "ipython3",
   "version": "3.8.8"
  }
 },
 "nbformat": 4,
 "nbformat_minor": 5
}
